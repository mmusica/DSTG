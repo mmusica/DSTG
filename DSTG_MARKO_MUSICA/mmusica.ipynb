{
 "cells": [
  {
   "cell_type": "code",
   "execution_count": 8,
   "metadata": {},
   "outputs": [],
   "source": [
    "import dstg\n",
    "import webbrowser\n",
    "import platform\n",
    "import numpy as np\n",
    "import itertools as it\n",
    "import random as ran\n",
    "from pylab import *\n",
    "import matplotlib as mlt\n",
    "import sympy as sm\n",
    "from IPython.core.display import display_html"
   ]
  },
  {
   "cell_type": "code",
   "execution_count": 9,
   "metadata": {},
   "outputs": [
    {
     "data": {
      "text/html": [
       "<table border=\"1\" cellpadding=\"3\" cellspacing=\"0\"  style=\"border:black; border-collapse:collapse;\"><tr><td  style=\"background-color:White;border-left: 1px transparent;border-right: 1px solid;border-top: 1px transparent;border-bottom: 1px solid;text-align:center;\"><b>&nbsp;</b></td><td  style=\"background-color:LightGray;border-left: 1px solid;border-right: 1px solid;border-top: 1px solid;border-bottom: 1px solid;text-align:center;\"><b>-1</b></td><td  style=\"background-color:LightGray;border-left: 1px solid;border-right: 1px solid;border-top: 1px solid;border-bottom: 1px solid;text-align:center;\"><b>0</b></td><td  style=\"background-color:LightGray;border-left: 1px solid;border-right: 1px solid;border-top: 1px solid;border-bottom: 1px solid;text-align:center;\"><b>1</b></td><td  style=\"background-color:LightGray;border-left: 1px solid;border-right: 1px solid;border-top: 1px solid;border-bottom: 1px solid;text-align:center;\"><b>2</b></td><td  style=\"background-color:LightGray;border-left: 1px solid;border-right: 1px solid;border-top: 1px solid;border-bottom: 1px solid;text-align:center;\"><b>3</b></td><td  style=\"background-color:LightGray;border-left: 1px solid;border-right: 1px solid;border-top: 1px solid;border-bottom: 1px solid;text-align:center;\"><b>4</b></td></tr><tr><td  style=\"background-color:LightGray;border-left: 1px solid;border-right: 1px solid;border-top: 1px solid;border-bottom: 1px solid;text-align:center;\"><b>r<sub>i</sub></b></td><td  style=\"background-color:Ivory;border-left: 1px solid;border-right: 1px solid;border-top: 1px solid;border-bottom: 1px solid;text-align:center;\">252</td><td  style=\"background-color:Ivory;border-left: 1px solid;border-right: 1px solid;border-top: 1px solid;border-bottom: 1px solid;text-align:center;\">200</td><td  style=\"background-color:Ivory;border-left: 1px solid;border-right: 1px solid;border-top: 1px solid;border-bottom: 1px solid;text-align:center;\">52</td><td  style=\"background-color:Ivory;border-left: 1px solid;border-right: 1px solid;border-top: 1px solid;border-bottom: 1px solid;text-align:center;\">44</td><td  style=\"background-color:Ivory;border-left: 1px solid;border-right: 1px solid;border-top: 1px solid;border-bottom: 1px solid;text-align:center;\">8</td><td  style=\"background-color:Ivory;border-left: 1px solid;border-right: 1px solid;border-top: 1px solid;border-bottom: 1px solid;text-align:center;\">4</td></tr><tr><td  style=\"background-color:LightGray;border-left: 1px solid;border-right: 1px solid;border-top: 1px solid;border-bottom: 1px solid;text-align:center;\"><b>q<sub>i</sub></b></td><td  style=\"background-color:AliceBlue;border-left: 1px solid;border-right: 1px solid;border-top: 1px solid;border-bottom: 1px solid;text-align:center;\">&nbsp;</td><td  style=\"background-color:AliceBlue;border-left: 1px solid;border-right: 1px solid;border-top: 1px solid;border-bottom: 1px solid;text-align:center;\">&nbsp;</td><td  style=\"background-color:AliceBlue;border-left: 1px solid;border-right: 1px solid;border-top: 1px solid;border-bottom: 1px solid;text-align:center;\">1</td><td  style=\"background-color:AliceBlue;border-left: 1px solid;border-right: 1px solid;border-top: 1px solid;border-bottom: 1px solid;text-align:center;\">3</td><td  style=\"background-color:AliceBlue;border-left: 1px solid;border-right: 1px solid;border-top: 1px solid;border-bottom: 1px solid;text-align:center;\">1</td><td  style=\"background-color:AliceBlue;border-left: 1px solid;border-right: 1px solid;border-top: 1px solid;border-bottom: 1px solid;text-align:center;\">5</td></tr><tr><td  style=\"background-color:LightGray;border-left: 1px solid;border-right: 1px solid;border-top: 1px solid;border-bottom: 1px solid;text-align:center;\"><b>x<sub>i</sub></b></td><td  style=\"background-color:Ivory;border-left: 1px solid;border-right: 1px solid;border-top: 1px solid;border-bottom: 1px solid;text-align:center;\">1</td><td  style=\"background-color:Ivory;border-left: 1px solid;border-right: 1px solid;border-top: 1px solid;border-bottom: 1px solid;text-align:center;\">0</td><td  style=\"background-color:Ivory;border-left: 1px solid;border-right: 1px solid;border-top: 1px solid;border-bottom: 1px solid;text-align:center;\">1</td><td  style=\"background-color:Ivory;border-left: 1px solid;border-right: 1px solid;border-top: 1px solid;border-bottom: 1px solid;text-align:center;\">-3</td><td  style=\"background-color:Ivory;border-left: 1px solid;border-right: 1px solid;border-top: 1px solid;border-bottom: 1px solid;text-align:center;\">4</td><td  style=\"background-color:Ivory;border-left: 1px solid;border-right: 1px solid;border-top: 1px solid;border-bottom: 1px solid;text-align:center;\">-23</td></tr><tr><td  style=\"background-color:LightGray;border-left: 1px solid;border-right: 1px solid;border-top: 1px solid;border-bottom: 1px solid;text-align:center;\"><b>y<sub>i</sub></b></td><td  style=\"background-color:AliceBlue;border-left: 1px solid;border-right: 1px solid;border-top: 1px solid;border-bottom: 1px solid;text-align:center;\">0</td><td  style=\"background-color:AliceBlue;border-left: 1px solid;border-right: 1px solid;border-top: 1px solid;border-bottom: 1px solid;text-align:center;\">1</td><td  style=\"background-color:AliceBlue;border-left: 1px solid;border-right: 1px solid;border-top: 1px solid;border-bottom: 1px solid;text-align:center;\">-1</td><td  style=\"background-color:AliceBlue;border-left: 1px solid;border-right: 1px solid;border-top: 1px solid;border-bottom: 1px solid;text-align:center;\">4</td><td  style=\"background-color:AliceBlue;border-left: 1px solid;border-right: 1px solid;border-top: 1px solid;border-bottom: 1px solid;text-align:center;\">-5</td><td  style=\"background-color:AliceBlue;border-left: 1px solid;border-right: 1px solid;border-top: 1px solid;border-bottom: 1px solid;text-align:center;\">29</td></tr></table>"
      ],
      "text/plain": [
       "<ipy_table.ipy_table.IpyTable at 0x24706f9bbb0>"
      ]
     },
     "execution_count": 9,
     "metadata": {},
     "output_type": "execute_result"
    }
   ],
   "source": [
    "dstg.euklid_rucno(252, 200)"
   ]
  }
 ],
 "metadata": {
  "kernelspec": {
   "display_name": "Python 3.10.8 64-bit",
   "language": "python",
   "name": "python3"
  },
  "language_info": {
   "codemirror_mode": {
    "name": "ipython",
    "version": 3
   },
   "file_extension": ".py",
   "mimetype": "text/x-python",
   "name": "python",
   "nbconvert_exporter": "python",
   "pygments_lexer": "ipython3",
   "version": "3.10.8"
  },
  "orig_nbformat": 4,
  "vscode": {
   "interpreter": {
    "hash": "a8ca800eef597d4d41e446deb956149e9da9a330d13aa360f5fc6994ea345711"
   }
  }
 },
 "nbformat": 4,
 "nbformat_minor": 2
}
